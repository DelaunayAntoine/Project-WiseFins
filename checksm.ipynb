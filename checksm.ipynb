{
 "cells": [
  {
   "cell_type": "code",
   "execution_count": 51,
   "id": "53e56acc",
   "metadata": {},
   "outputs": [],
   "source": [
    "import pandas as pd\n",
    "import numpy as np"
   ]
  },
  {
   "cell_type": "code",
   "execution_count": 52,
   "id": "c68cce9d",
   "metadata": {},
   "outputs": [],
   "source": [
    "r_c=pd.read_excel('recipe_from_CHECKSCM_20240125.xlsx')\n",
    "r_c.drop('Cost Centre', axis=1, inplace=True)\n",
    "r_c.drop_duplicates(inplace=True)\n",
    "r_c.drop('Sub Class', axis=1, inplace=True)\n",
    "r_c.drop('Concept', axis=1, inplace=True)\n",
    "r_c.drop('Waste(%)', axis=1, inplace=True)\n"
   ]
  },
  {
   "cell_type": "code",
   "execution_count": 53,
   "id": "dc68d0e2",
   "metadata": {},
   "outputs": [],
   "source": [
    "target_output=pd.read_excel('recipe_to_load.xlsx')\n",
    "\n",
    "f_r_check=pd.read_excel('food_recipe_checkscm.xlsx')"
   ]
  },
  {
   "cell_type": "code",
   "execution_count": 54,
   "id": "d499eba8",
   "metadata": {},
   "outputs": [],
   "source": [
    "r_c['resto'] = 'checkscm'\n",
    "r_c['Recipe'] = r_c['Recipe'].replace({'R': 'Sub Recipe', 'I': ''}, regex=True)"
   ]
  },
  {
   "cell_type": "code",
   "execution_count": 55,
   "id": "87d128a8",
   "metadata": {},
   "outputs": [],
   "source": [
    "r_c['Product']=r_c['Product'].astype(str)\n",
    "r_c['Recipe Code']=r_c['Recipe Code'].astype(str).str.zfill(10)\n",
    "r_c['Product']=r_c['Product'].astype(str).str.zfill(10)"
   ]
  },
  {
   "cell_type": "code",
   "execution_count": 56,
   "id": "1de60cee",
   "metadata": {},
   "outputs": [],
   "source": [
    "rec_comp = r_c[['Product', 'Product Name']].merge(r_c[['Recipe Code', 'Recipe Name']], how='inner', left_on='Product', right_on='Recipe Code')"
   ]
  },
  {
   "cell_type": "code",
   "execution_count": 57,
   "id": "44eb1aad",
   "metadata": {},
   "outputs": [],
   "source": [
    "mapping_dict = r_c.set_index('Recipe Code')['Recipe Name'].to_dict()\n",
    "r_c['Product Name'] = r_c['Product Name'].fillna(r_c['Product'].map(mapping_dict))"
   ]
  },
  {
   "cell_type": "code",
   "execution_count": 58,
   "id": "ec5accb4",
   "metadata": {},
   "outputs": [],
   "source": [
    "r_c.rename(columns={'Recipe': 'subRecipe'}, inplace=True)\n",
    "r_c.rename(columns={'Recipe Group': 'recipeGroup'}, inplace=True)\n",
    "r_c.rename(columns={'Class': 'recipeGroupParent'}, inplace=True)\n",
    "r_c['recipenamecode'] = r_c['Recipe Name'] + ' ' + r_c['Recipe Code']\n",
    "r_c.rename(columns={'recipenamecode': 'Recipe Namec'}, inplace=True)\n",
    "r_c.rename(columns={'Product Name':'recipeCompose'},inplace=True)"
   ]
  },
  {
   "cell_type": "code",
   "execution_count": 5,
   "id": "f7cd4132",
   "metadata": {},
   "outputs": [
    {
     "name": "stdout",
     "output_type": "stream",
     "text": [
      "['resto', 'subRecipe', 'recipeGroup', 'recipeGroupParent', 'recipeName', 'recipeCompose', 'agbcode', 'quantity', 'cost', 'InventoryCode', 'unit', 'quantityAfter', 'portion', 'statut', 'photo', 'selling', 'category', 'subcategory']\n"
     ]
    }
   ],
   "source": [
    "column_names = target_output.columns.tolist()\n",
    "print(column_names)"
   ]
  },
  {
   "cell_type": "code",
   "execution_count": 6,
   "id": "676b7aac",
   "metadata": {},
   "outputs": [],
   "source": [
    "\"\"\"f_r_check['resto'] = 'checkscm'\n",
    "f_r_check['subRecipe'] = np.nan\n",
    "f_r_check.rename(columns={'Recipe Group': 'recipeGroup'}, inplace=True)\n",
    "f_r_check.rename(columns={'Class': 'recipeGroupParent'}, inplace=True)\n",
    "f_r_check.rename(columns={'Recipe Description': 'recipeName'}, inplace=True)\n",
    "f_r_check['recipeCompose'] = np.nan\n",
    "f_r_check['agbcode'] = np.nan\n",
    "f_r_check['quantity'] = np.nan\n",
    "f_r_check.rename(columns={'Unit Cost': 'cost'}, inplace=True)\n",
    "f_r_check['InventoryCode'] = np.nan\n",
    "f_r_check.rename(columns={'Serve Size': 'unit'}, inplace=True)\n",
    "f_r_check['quantityAfter'] = np.nan\n",
    "f_r_check.rename(columns={'No. of Serve': 'portion'}, inplace=True)\n",
    "f_r_check.rename(columns={'Status': 'statut'}, inplace=True)\n",
    "f_r_check['photo'] = np.nan\n",
    "f_r_check.rename(columns={'Suggested Selling Price': 'selling'}, inplace=True)\n",
    "f_r_check['category'] = np.nan\n",
    "f_r_check['subcategory'] = np.nan\"\"\""
   ]
  },
  {
   "cell_type": "code",
   "execution_count": 7,
   "id": "d752d8e7",
   "metadata": {},
   "outputs": [],
   "source": [
    "column_order = ['resto', 'subRecipe', 'recipeGroup', 'recipeGroupParent', 'recipeName', 'recipeCompose', 'agbcode', 'quantity', 'cost', 'InventoryCode', 'unit', 'quantityAfter', 'portion', 'statut', 'photo', 'selling', 'category', 'subcategory']\n",
    "\n",
    "# Reorder the columns\n",
    "f_r_check = f_r_check[column_order]"
   ]
  }
 ],
 "metadata": {
  "kernelspec": {
   "display_name": "Python 3 (ipykernel)",
   "language": "python",
   "name": "python3"
  },
  "language_info": {
   "codemirror_mode": {
    "name": "ipython",
    "version": 3
   },
   "file_extension": ".py",
   "mimetype": "text/x-python",
   "name": "python",
   "nbconvert_exporter": "python",
   "pygments_lexer": "ipython3",
   "version": "3.9.7"
  }
 },
 "nbformat": 4,
 "nbformat_minor": 5
}
