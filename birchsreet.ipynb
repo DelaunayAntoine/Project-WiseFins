{
 "cells": [
  {
   "cell_type": "code",
   "execution_count": 2,
   "id": "26ed0996",
   "metadata": {},
   "outputs": [],
   "source": [
    "import pandas as pd\n",
    "import numpy as np"
   ]
  },
  {
   "cell_type": "code",
   "execution_count": 3,
   "id": "312ebf8e",
   "metadata": {},
   "outputs": [],
   "source": [
    "target_output=pd.read_excel('recipe_to_load.xlsx')\n",
    "\n",
    "b_r_birch=pd.read_excel('beverage_recipe_birchstreet.xlsx',header=5)\n",
    "b_r_birch = b_r_birch[b_r_birch['Recipe type'] == 'Recipe']\n",
    "\n",
    "b_i_birch=pd.read_excel('ingredient_masterlist_birchsreet.xlsx')\n",
    "\n",
    "c_i_birch=pd.read_excel('Category_ingredient_BirchStreet.xlsx')\n",
    "agbsrc=pd.read_excel('agbcode_file.xlsx')"
   ]
  },
  {
   "cell_type": "code",
   "execution_count": 4,
   "id": "743282c9",
   "metadata": {},
   "outputs": [
    {
     "name": "stdout",
     "output_type": "stream",
     "text": [
      "['resto', 'subRecipe', 'recipeGroup', 'recipeGroupParent', 'recipeName', 'recipeCompose', 'agbcode', 'quantity', 'cost', 'InventoryCode', 'unit', 'quantityAfter', 'portion', 'statut', 'photo', 'selling', 'category', 'subcategory']\n"
     ]
    }
   ],
   "source": [
    "\n",
    "column_names = target_output.columns.tolist()\n",
    "\n",
    "\n",
    "print(column_names)"
   ]
  },
  {
   "cell_type": "code",
   "execution_count": 5,
   "id": "abb508cc",
   "metadata": {},
   "outputs": [],
   "source": [
    "b_r_birch['resto'] = 'birchstreet'\n",
    "\n",
    "b_r_birch['recipeGroup'] = 'Beverage'\n",
    "\n",
    "b_r_birch['recipeGroupParent'] = np.nan\n",
    "\n",
    "b_r_birch['agbcode'] = np.nan\n",
    "b_r_birch['category'] = np.nan\n",
    "b_r_birch['subcategory'] = np.nan\n",
    "\n",
    "b_r_birch['photo'] = 'no'\n",
    "\n",
    "b_r_birch['cost'] = np.nan\n",
    "b_r_birch['InventoryCode'] = np.nan\n",
    "\n",
    "b_r_birch['subRecipe'] = np.nan"
   ]
  },
  {
   "cell_type": "code",
   "execution_count": 6,
   "id": "cc8d75f8",
   "metadata": {},
   "outputs": [],
   "source": [
    "b_r_birch.rename(columns={'Ingredient/Subrecipe name': 'recipeCompose'}, inplace=True)\n",
    "\n",
    "b_r_birch.rename(columns={'Dish/Recipe name': 'recipeName'}, inplace=True)\n",
    "\n",
    "b_r_birch.rename(columns={'UOM': 'unit'}, inplace=True)"
   ]
  },
  {
   "cell_type": "code",
   "execution_count": 7,
   "id": "5655defa",
   "metadata": {},
   "outputs": [],
   "source": [
    "b_r_birch['quantityAfter'] = b_r_birch['Quantity'].copy()"
   ]
  },
  {
   "cell_type": "code",
   "execution_count": 8,
   "id": "9fa9ad50",
   "metadata": {},
   "outputs": [],
   "source": [
    "# Function to extract the first 8 characters from the 'recipeCompose' column\n",
    "def extract_first_8_chars(recipe):\n",
    "    return recipe[:8]\n",
    "\n",
    "b_r_birch['SKU'] = b_r_birch['recipeCompose'].apply(extract_first_8_chars)\n",
    "\n",
    "merged_df = pd.merge(b_r_birch, b_i_birch[['Supplier SKU', 'Unit price']], how='left', left_on='SKU', right_on='Supplier SKU')\n",
    "\n",
    "b_r_birch['cost'] = merged_df['Unit price']"
   ]
  },
  {
   "cell_type": "code",
   "execution_count": 9,
   "id": "48e5f10b",
   "metadata": {},
   "outputs": [],
   "source": [
    "merged_df = pd.merge(b_r_birch, c_i_birch[['AGBCode','Part #']], how='left', left_on='SKU', right_on='Part #')\n",
    "\n",
    "b_r_birch['agbcode'] = merged_df['AGBCode']"
   ]
  },
  {
   "cell_type": "code",
   "execution_count": 10,
   "id": "e72f3352",
   "metadata": {},
   "outputs": [],
   "source": [
    "merged_df = pd.merge(b_r_birch, agbsrc[['Code\\nAGB','WiseFins EN Category','WiseFins EN Subcategory']], how='left', left_on='agbcode', right_on='Code\\nAGB')\n",
    "\n",
    "b_r_birch['category'] = merged_df['WiseFins EN Category']\n",
    "b_r_birch['subcategory'] = merged_df['WiseFins EN Subcategory']"
   ]
  },
  {
   "cell_type": "code",
   "execution_count": 11,
   "id": "c7c564e9",
   "metadata": {},
   "outputs": [
    {
     "name": "stdout",
     "output_type": "stream",
     "text": [
      "['Property #', 'recipeName', 'Recipe ID', 'Recipe type', 'Quantity', 'unit', 'recipeCompose', 'Ingredient/Subrecipe ID', 'Ingredient Preparation', 'Supplier item description', 'resto', 'recipeGroup', 'recipeGroupParent', 'agbcode', 'category', 'subcategory', 'photo', 'cost', 'InventoryCode', 'subRecipe', 'quantityAfter', 'SKU']\n"
     ]
    }
   ],
   "source": [
    "# Suppose 'b_r_birch' is your DataFrame\n",
    "column_names = b_r_birch.columns.tolist()\n",
    "\n",
    "# Print or use the column names as needed\n",
    "print(column_names)"
   ]
  },
  {
   "cell_type": "code",
   "execution_count": 12,
   "id": "715ab874",
   "metadata": {},
   "outputs": [],
   "source": [
    "column_order = ['resto', 'subRecipe', 'recipeGroup', 'recipeGroupParent', 'recipeName', 'recipeCompose', 'agbcode', 'Quantity', 'cost', 'InventoryCode', 'unit', 'quantityAfter', 'photo','category','subcategory','SKU']\n",
    "\n",
    "# Reorder the columns\n",
    "b_r_birch = b_r_birch[column_order]"
   ]
  },
  {
   "cell_type": "code",
   "execution_count": 13,
   "id": "e0926f94",
   "metadata": {},
   "outputs": [
    {
     "data": {
      "text/plain": [
       "Index(['resto', 'subRecipe', 'recipeGroup', 'recipeGroupParent', 'recipeName',\n",
       "       'recipeCompose', 'agbcode', 'Quantity', 'cost', 'InventoryCode', 'unit',\n",
       "       'quantityAfter', 'photo', 'category', 'subcategory', 'SKU'],\n",
       "      dtype='object')"
      ]
     },
     "execution_count": 13,
     "metadata": {},
     "output_type": "execute_result"
    }
   ],
   "source": [
    "b_r_birch.columns"
   ]
  },
  {
   "cell_type": "code",
   "execution_count": 14,
   "id": "82735fc6",
   "metadata": {
    "scrolled": true
   },
   "outputs": [
    {
     "data": {
      "text/plain": [
       "Index(['resto', 'subRecipe', 'recipeGroup', 'recipeGroupParent', 'recipeName',\n",
       "       'recipeCompose', 'agbcode', 'quantity', 'cost', 'InventoryCode', 'unit',\n",
       "       'quantityAfter', 'portion', 'statut', 'photo', 'selling', 'category',\n",
       "       'subcategory'],\n",
       "      dtype='object')"
      ]
     },
     "execution_count": 14,
     "metadata": {},
     "output_type": "execute_result"
    }
   ],
   "source": [
    "target_output.columns"
   ]
  },
  {
   "cell_type": "code",
   "execution_count": 15,
   "id": "e28e10bb",
   "metadata": {
    "scrolled": false
   },
   "outputs": [
    {
     "name": "stdout",
     "output_type": "stream",
     "text": [
      "<class 'pandas.core.frame.DataFrame'>\n",
      "Int64Index: 1115 entries, 289 to 1403\n",
      "Data columns (total 16 columns):\n",
      " #   Column             Non-Null Count  Dtype  \n",
      "---  ------             --------------  -----  \n",
      " 0   resto              1115 non-null   object \n",
      " 1   subRecipe          0 non-null      float64\n",
      " 2   recipeGroup        1115 non-null   object \n",
      " 3   recipeGroupParent  0 non-null      float64\n",
      " 4   recipeName         1115 non-null   object \n",
      " 5   recipeCompose      1115 non-null   object \n",
      " 6   agbcode            613 non-null    object \n",
      " 7   Quantity           1115 non-null   float64\n",
      " 8   cost               1098 non-null   float64\n",
      " 9   InventoryCode      0 non-null      float64\n",
      " 10  unit               1115 non-null   object \n",
      " 11  quantityAfter      1115 non-null   float64\n",
      " 12  photo              1115 non-null   object \n",
      " 13  category           70 non-null     object \n",
      " 14  subcategory        70 non-null     object \n",
      " 15  SKU                1115 non-null   object \n",
      "dtypes: float64(6), object(10)\n",
      "memory usage: 148.1+ KB\n"
     ]
    }
   ],
   "source": [
    "b_r_birch.info()"
   ]
  },
  {
   "cell_type": "code",
   "execution_count": 16,
   "id": "709750e1",
   "metadata": {},
   "outputs": [
    {
     "data": {
      "text/html": [
       "<div>\n",
       "<style scoped>\n",
       "    .dataframe tbody tr th:only-of-type {\n",
       "        vertical-align: middle;\n",
       "    }\n",
       "\n",
       "    .dataframe tbody tr th {\n",
       "        vertical-align: top;\n",
       "    }\n",
       "\n",
       "    .dataframe thead th {\n",
       "        text-align: right;\n",
       "    }\n",
       "</style>\n",
       "<table border=\"1\" class=\"dataframe\">\n",
       "  <thead>\n",
       "    <tr style=\"text-align: right;\">\n",
       "      <th></th>\n",
       "      <th>resto</th>\n",
       "      <th>subRecipe</th>\n",
       "      <th>recipeGroup</th>\n",
       "      <th>recipeGroupParent</th>\n",
       "      <th>recipeName</th>\n",
       "      <th>recipeCompose</th>\n",
       "      <th>agbcode</th>\n",
       "      <th>Quantity</th>\n",
       "      <th>cost</th>\n",
       "      <th>InventoryCode</th>\n",
       "      <th>unit</th>\n",
       "      <th>quantityAfter</th>\n",
       "      <th>photo</th>\n",
       "      <th>category</th>\n",
       "      <th>subcategory</th>\n",
       "      <th>SKU</th>\n",
       "    </tr>\n",
       "  </thead>\n",
       "  <tbody>\n",
       "    <tr>\n",
       "      <th>289</th>\n",
       "      <td>birchstreet</td>\n",
       "      <td>NaN</td>\n",
       "      <td>Beverage</td>\n",
       "      <td>NaN</td>\n",
       "      <td>Cocktail - Vodkatini Martini 20000002</td>\n",
       "      <td>L265.014 Noilly Prat Ex Dry1000ml</td>\n",
       "      <td>1001</td>\n",
       "      <td>10.0</td>\n",
       "      <td>55.00</td>\n",
       "      <td>NaN</td>\n",
       "      <td>ML</td>\n",
       "      <td>10.0</td>\n",
       "      <td>no</td>\n",
       "      <td>NaN</td>\n",
       "      <td>NaN</td>\n",
       "      <td>L265.014</td>\n",
       "    </tr>\n",
       "    <tr>\n",
       "      <th>290</th>\n",
       "      <td>birchstreet</td>\n",
       "      <td>NaN</td>\n",
       "      <td>Beverage</td>\n",
       "      <td>NaN</td>\n",
       "      <td>Cocktail - Vodkatini Martini 20000002</td>\n",
       "      <td>L255.001 Absolute Blue BtEach</td>\n",
       "      <td>18058</td>\n",
       "      <td>90.0</td>\n",
       "      <td>55.00</td>\n",
       "      <td>NaN</td>\n",
       "      <td>ML</td>\n",
       "      <td>90.0</td>\n",
       "      <td>no</td>\n",
       "      <td>alcoholic beverage</td>\n",
       "      <td>spirits</td>\n",
       "      <td>L255.001</td>\n",
       "    </tr>\n",
       "    <tr>\n",
       "      <th>291</th>\n",
       "      <td>birchstreet</td>\n",
       "      <td>NaN</td>\n",
       "      <td>Beverage</td>\n",
       "      <td>NaN</td>\n",
       "      <td>Cocktail - Bombay Martini Martini 20000005</td>\n",
       "      <td>L265.014 Noilly Prat Ex Dry1000ml</td>\n",
       "      <td>1001</td>\n",
       "      <td>5.0</td>\n",
       "      <td>1032.00</td>\n",
       "      <td>NaN</td>\n",
       "      <td>ML</td>\n",
       "      <td>5.0</td>\n",
       "      <td>no</td>\n",
       "      <td>NaN</td>\n",
       "      <td>NaN</td>\n",
       "      <td>L265.014</td>\n",
       "    </tr>\n",
       "    <tr>\n",
       "      <th>292</th>\n",
       "      <td>birchstreet</td>\n",
       "      <td>NaN</td>\n",
       "      <td>Beverage</td>\n",
       "      <td>NaN</td>\n",
       "      <td>Cocktail - Bombay Martini Martini 20000005</td>\n",
       "      <td>L257.014 Gin Beefeater,700mlBtl</td>\n",
       "      <td>1003</td>\n",
       "      <td>90.0</td>\n",
       "      <td>80.57</td>\n",
       "      <td>NaN</td>\n",
       "      <td>ML</td>\n",
       "      <td>90.0</td>\n",
       "      <td>no</td>\n",
       "      <td>NaN</td>\n",
       "      <td>NaN</td>\n",
       "      <td>L257.014</td>\n",
       "    </tr>\n",
       "    <tr>\n",
       "      <th>293</th>\n",
       "      <td>birchstreet</td>\n",
       "      <td>NaN</td>\n",
       "      <td>Beverage</td>\n",
       "      <td>NaN</td>\n",
       "      <td>Cocktail - Apple Truffle MARTINI_HP 20000007</td>\n",
       "      <td>L257.001 Gin Beefeater 24700ml, Each</td>\n",
       "      <td>18058</td>\n",
       "      <td>45.0</td>\n",
       "      <td>89.00</td>\n",
       "      <td>NaN</td>\n",
       "      <td>ML</td>\n",
       "      <td>45.0</td>\n",
       "      <td>no</td>\n",
       "      <td>NaN</td>\n",
       "      <td>NaN</td>\n",
       "      <td>L257.001</td>\n",
       "    </tr>\n",
       "  </tbody>\n",
       "</table>\n",
       "</div>"
      ],
      "text/plain": [
       "           resto  subRecipe recipeGroup  recipeGroupParent  \\\n",
       "289  birchstreet        NaN    Beverage                NaN   \n",
       "290  birchstreet        NaN    Beverage                NaN   \n",
       "291  birchstreet        NaN    Beverage                NaN   \n",
       "292  birchstreet        NaN    Beverage                NaN   \n",
       "293  birchstreet        NaN    Beverage                NaN   \n",
       "\n",
       "                                       recipeName  \\\n",
       "289         Cocktail - Vodkatini Martini 20000002   \n",
       "290         Cocktail - Vodkatini Martini 20000002   \n",
       "291    Cocktail - Bombay Martini Martini 20000005   \n",
       "292    Cocktail - Bombay Martini Martini 20000005   \n",
       "293  Cocktail - Apple Truffle MARTINI_HP 20000007   \n",
       "\n",
       "                            recipeCompose  agbcode  Quantity     cost  \\\n",
       "289     L265.014 Noilly Prat Ex Dry1000ml     1001      10.0    55.00   \n",
       "290         L255.001 Absolute Blue BtEach   18058       90.0    55.00   \n",
       "291     L265.014 Noilly Prat Ex Dry1000ml     1001       5.0  1032.00   \n",
       "292       L257.014 Gin Beefeater,700mlBtl    1003       90.0    80.57   \n",
       "293  L257.001 Gin Beefeater 24700ml, Each   18058       45.0    89.00   \n",
       "\n",
       "     InventoryCode unit  quantityAfter photo            category subcategory  \\\n",
       "289            NaN   ML           10.0    no                 NaN         NaN   \n",
       "290            NaN   ML           90.0    no  alcoholic beverage     spirits   \n",
       "291            NaN   ML            5.0    no                 NaN         NaN   \n",
       "292            NaN   ML           90.0    no                 NaN         NaN   \n",
       "293            NaN   ML           45.0    no                 NaN         NaN   \n",
       "\n",
       "          SKU  \n",
       "289  L265.014  \n",
       "290  L255.001  \n",
       "291  L265.014  \n",
       "292  L257.014  \n",
       "293  L257.001  "
      ]
     },
     "execution_count": 16,
     "metadata": {},
     "output_type": "execute_result"
    }
   ],
   "source": [
    "b_r_birch.head()"
   ]
  },
  {
   "cell_type": "code",
   "execution_count": 40,
   "id": "a6ad233b",
   "metadata": {},
   "outputs": [
    {
     "name": "stdout",
     "output_type": "stream",
     "text": [
      "<class 'pandas.core.frame.DataFrame'>\n",
      "RangeIndex: 138 entries, 0 to 137\n",
      "Data columns (total 18 columns):\n",
      " #   Column             Non-Null Count  Dtype  \n",
      "---  ------             --------------  -----  \n",
      " 0   resto              138 non-null    object \n",
      " 1   subRecipe          13 non-null     object \n",
      " 2   recipeGroup        138 non-null    object \n",
      " 3   recipeGroupParent  138 non-null    object \n",
      " 4   recipeName         138 non-null    object \n",
      " 5   recipeCompose      138 non-null    object \n",
      " 6   agbcode            115 non-null    object \n",
      " 7   quantity           137 non-null    float64\n",
      " 8   cost               130 non-null    float64\n",
      " 9   InventoryCode      110 non-null    float64\n",
      " 10  unit               138 non-null    object \n",
      " 11  quantityAfter      138 non-null    float64\n",
      " 12  portion            132 non-null    float64\n",
      " 13  statut             138 non-null    object \n",
      " 14  photo              138 non-null    object \n",
      " 15  selling            138 non-null    float64\n",
      " 16  category           0 non-null      float64\n",
      " 17  subcategory        0 non-null      float64\n",
      "dtypes: float64(8), object(10)\n",
      "memory usage: 19.5+ KB\n"
     ]
    }
   ],
   "source": [
    "target_output.info()"
   ]
  },
  {
   "cell_type": "code",
   "execution_count": null,
   "id": "cb0107d1",
   "metadata": {},
   "outputs": [],
   "source": []
  }
 ],
 "metadata": {
  "kernelspec": {
   "display_name": "Python 3 (ipykernel)",
   "language": "python",
   "name": "python3"
  },
  "language_info": {
   "codemirror_mode": {
    "name": "ipython",
    "version": 3
   },
   "file_extension": ".py",
   "mimetype": "text/x-python",
   "name": "python",
   "nbconvert_exporter": "python",
   "pygments_lexer": "ipython3",
   "version": "3.9.7"
  }
 },
 "nbformat": 4,
 "nbformat_minor": 5
}
