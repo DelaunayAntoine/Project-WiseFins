{
 "cells": [
  {
   "cell_type": "code",
   "execution_count": 1,
   "id": "26ed0996",
   "metadata": {},
   "outputs": [],
   "source": [
    "import pandas as pd\n",
    "import numpy as np"
   ]
  },
  {
   "cell_type": "code",
   "execution_count": 2,
   "id": "312ebf8e",
   "metadata": {},
   "outputs": [],
   "source": [
    "target_output=pd.read_excel('recipe_to_load.xlsx')\n",
    "\n",
    "b_r_birch=pd.read_excel('beverage_recipe_birchstreet.xlsx',header=5)\n",
    "b_r_birch = b_r_birch[b_r_birch['Recipe type'] == 'Recipe']\n",
    "\n",
    "b_i_birch=pd.read_excel('ingredient_masterlist_birchsreet.xlsx')\n",
    "\n",
    "c_i_birch=pd.read_excel('Category_ingredient_BirchStreet.xlsx')\n",
    "agbsrc=pd.read_excel('agbcode_file.xlsx')"
   ]
  },
  {
   "cell_type": "code",
   "execution_count": 3,
   "id": "fa01a83e",
   "metadata": {},
   "outputs": [],
   "source": [
    "pd.set_option('display.max_columns', None)"
   ]
  },
  {
   "cell_type": "code",
   "execution_count": 4,
   "id": "969df866",
   "metadata": {},
   "outputs": [],
   "source": [
    "agbsrc=agbsrc[['Code AGB', 'WiseFins FR Category','WiseFins EN Category','WiseFins FR Subcategory','WiseFins EN Subcategory']]\n",
    "\n",
    "agbsrc.drop_duplicates(inplace=True)\n",
    "\n",
    "agbsrc['Code AGB']=agbsrc['Code AGB'].astype(str)"
   ]
  },
  {
   "cell_type": "code",
   "execution_count": 5,
   "id": "abb508cc",
   "metadata": {},
   "outputs": [],
   "source": [
    "b_r_birch['resto'] = 'birchstreet'\n",
    "\n",
    "b_r_birch['recipeGroup'] = 'Beverage'\n",
    "\n",
    "\n",
    "b_r_birch['photo'] = 'no'\n",
    "\n",
    "b_r_birch['cost'] = np.nan\n",
    "b_r_birch['InventoryCode'] = np.nan\n",
    "b_r_birch['portion'] = 1\n",
    "b_r_birch['subRecipe'] = np.nan\n",
    "\n",
    "b_r_birch.rename(columns={'Ingredient/Subrecipe name': 'recipeCompose'}, inplace=True)\n",
    "\n",
    "b_r_birch.rename(columns={'Dish/Recipe name': 'recipeName'}, inplace=True)\n",
    "\n",
    "b_r_birch.rename(columns={'UOM': 'unit'}, inplace=True)\n",
    "\n",
    "b_r_birch['quantityAfter'] = b_r_birch['Quantity'].copy()"
   ]
  },
  {
   "cell_type": "code",
   "execution_count": 6,
   "id": "9fa9ad50",
   "metadata": {},
   "outputs": [],
   "source": [
    "# Function to extract the first 8 characters from the 'recipeCompose' column\n",
    "def extract_first_8_chars(recipe):\n",
    "    return recipe[:8]\n",
    "\n",
    "b_r_birch['SKU'] = b_r_birch['recipeCompose'].apply(extract_first_8_chars)\n",
    "b_r_birch['SKU'] = b_r_birch['SKU'].astype(str)\n",
    "b_i_birch['Supplier SKU']=b_i_birch['Supplier SKU'].astype(str)"
   ]
  },
  {
   "cell_type": "code",
   "execution_count": 7,
   "id": "94fd1de9",
   "metadata": {},
   "outputs": [],
   "source": [
    "# Calculate the average price for each unique code\n",
    "b_i_birch = b_i_birch.groupby('Supplier SKU', as_index=False)['Unit price'].mean()"
   ]
  },
  {
   "cell_type": "code",
   "execution_count": 8,
   "id": "d4b4a491",
   "metadata": {},
   "outputs": [],
   "source": [
    "b_i_birch['Supplier SKU']=b_i_birch['Supplier SKU'].astype(str)"
   ]
  },
  {
   "cell_type": "code",
   "execution_count": 9,
   "id": "5ad1f488",
   "metadata": {},
   "outputs": [],
   "source": [
    "b_r_birch = b_r_birch.merge(b_i_birch[['Supplier SKU', 'Unit price']], how='left', left_on='SKU', right_on='Supplier SKU')"
   ]
  },
  {
   "cell_type": "code",
   "execution_count": 10,
   "id": "1e35e221",
   "metadata": {},
   "outputs": [],
   "source": [
    "b_r_birch.drop_duplicates(inplace=True)"
   ]
  },
  {
   "cell_type": "code",
   "execution_count": 11,
   "id": "5c63e8cd",
   "metadata": {
    "scrolled": true
   },
   "outputs": [],
   "source": [
    "c_i_birch=c_i_birch[['Part #','AGBCode']]"
   ]
  },
  {
   "cell_type": "code",
   "execution_count": 12,
   "id": "cc4127e9",
   "metadata": {},
   "outputs": [],
   "source": [
    "c_i_birch.drop_duplicates(inplace=True)"
   ]
  },
  {
   "cell_type": "code",
   "execution_count": 13,
   "id": "48e5f10b",
   "metadata": {},
   "outputs": [],
   "source": [
    "b_r_birch = b_r_birch.merge(c_i_birch[['AGBCode','Part #']], how='left', left_on='SKU', right_on='Part #')"
   ]
  },
  {
   "cell_type": "code",
   "execution_count": 14,
   "id": "9f757106",
   "metadata": {},
   "outputs": [],
   "source": [
    "b_r_birch['AGBCode'].fillna(0, inplace=True)\n",
    "\n",
    "# Convert the column to integer\n",
    "b_r_birch['AGBCode'] = b_r_birch['AGBCode'].astype(str)"
   ]
  },
  {
   "cell_type": "code",
   "execution_count": 15,
   "id": "4aa1a65e",
   "metadata": {},
   "outputs": [],
   "source": [
    "agbsrc['Code AGB'] = agbsrc['Code AGB'].str.strip()\n",
    "b_r_birch['AGBCode'] = b_r_birch['AGBCode'].str.strip()"
   ]
  },
  {
   "cell_type": "code",
   "execution_count": 16,
   "id": "e72f3352",
   "metadata": {},
   "outputs": [],
   "source": [
    "b_r_birch = b_r_birch.merge(agbsrc[['Code AGB','WiseFins EN Category','WiseFins EN Subcategory']], how='left', left_on='AGBCode', right_on='Code AGB')"
   ]
  },
  {
   "cell_type": "code",
   "execution_count": 17,
   "id": "bb8e988d",
   "metadata": {},
   "outputs": [],
   "source": [
    "b_r_birch.rename(columns={'WiseFins EN Category': 'category','WiseFins EN Subcategory': 'subcategory'}, inplace=True)"
   ]
  },
  {
   "cell_type": "code",
   "execution_count": 18,
   "id": "715ab874",
   "metadata": {},
   "outputs": [],
   "source": [
    "column_order = ['resto', 'subRecipe', 'recipeGroup', 'recipeName', 'recipeCompose', 'AGBCode','Code AGB', 'Quantity', 'cost', 'InventoryCode', 'unit', 'quantityAfter', 'photo','category','subcategory','portion','SKU']\n",
    "# Reorder the columns\n",
    "b_r_birch = b_r_birch[column_order]"
   ]
  },
  {
   "cell_type": "markdown",
   "id": "19ea1a75",
   "metadata": {},
   "source": [
    "b_r_birch.to_excel(\"output_b_r_birch.xlsx\", index=False)"
   ]
  },
  {
   "cell_type": "code",
   "execution_count": 19,
   "id": "ff3fc9da",
   "metadata": {},
   "outputs": [],
   "source": [
    "sales_a=pd.read_excel('output_menu_sales_analysis_transformed.xlsx')"
   ]
  },
  {
   "cell_type": "code",
   "execution_count": 20,
   "id": "39857c6e",
   "metadata": {},
   "outputs": [
    {
     "data": {
      "text/html": [
       "<div>\n",
       "<style scoped>\n",
       "    .dataframe tbody tr th:only-of-type {\n",
       "        vertical-align: middle;\n",
       "    }\n",
       "\n",
       "    .dataframe tbody tr th {\n",
       "        vertical-align: top;\n",
       "    }\n",
       "\n",
       "    .dataframe thead th {\n",
       "        text-align: right;\n",
       "    }\n",
       "</style>\n",
       "<table border=\"1\" class=\"dataframe\">\n",
       "  <thead>\n",
       "    <tr style=\"text-align: right;\">\n",
       "      <th></th>\n",
       "      <th>Code</th>\n",
       "      <th>Name</th>\n",
       "      <th>Department</th>\n",
       "      <th>Course</th>\n",
       "      <th>Qty.</th>\n",
       "      <th>Menu Mix %</th>\n",
       "      <th>Sales Price</th>\n",
       "      <th>Unit Cost</th>\n",
       "      <th>Cost %</th>\n",
       "      <th>Discount Amount</th>\n",
       "      <th>CM</th>\n",
       "      <th>Menu Revenue</th>\n",
       "      <th>Menu Cost</th>\n",
       "      <th>Menu CM</th>\n",
       "      <th>Menu CM %</th>\n",
       "      <th>CM Category</th>\n",
       "      <th>Menu Mix Category</th>\n",
       "      <th>Classification</th>\n",
       "      <th>recipeGroupParent</th>\n",
       "    </tr>\n",
       "  </thead>\n",
       "  <tbody>\n",
       "    <tr>\n",
       "      <th>0</th>\n",
       "      <td>SINRS-19250002</td>\n",
       "      <td>Open Food Tastingchinese food tasting</td>\n",
       "      <td>FOOD</td>\n",
       "      <td>NaN</td>\n",
       "      <td>165.0</td>\n",
       "      <td>0.491071</td>\n",
       "      <td>207.454545</td>\n",
       "      <td>0</td>\n",
       "      <td>0</td>\n",
       "      <td>-34230.0</td>\n",
       "      <td>207.454545</td>\n",
       "      <td>34230.0</td>\n",
       "      <td>0</td>\n",
       "      <td>34230.0</td>\n",
       "      <td>0.686605</td>\n",
       "      <td>HIGH</td>\n",
       "      <td>HIGH</td>\n",
       "      <td>STARS</td>\n",
       "      <td>FOOD</td>\n",
       "    </tr>\n",
       "    <tr>\n",
       "      <th>1</th>\n",
       "      <td>SINRS-19250002</td>\n",
       "      <td>Open Food Tastingwedding food tasting</td>\n",
       "      <td>FOOD</td>\n",
       "      <td>NaN</td>\n",
       "      <td>108.0</td>\n",
       "      <td>0.321429</td>\n",
       "      <td>70.000000</td>\n",
       "      <td>0</td>\n",
       "      <td>0</td>\n",
       "      <td>-8540.0</td>\n",
       "      <td>70.000000</td>\n",
       "      <td>7560.0</td>\n",
       "      <td>0</td>\n",
       "      <td>7560.0</td>\n",
       "      <td>0.151643</td>\n",
       "      <td>LOW</td>\n",
       "      <td>HIGH</td>\n",
       "      <td>PLOWHORSES</td>\n",
       "      <td>FOOD</td>\n",
       "    </tr>\n",
       "    <tr>\n",
       "      <th>2</th>\n",
       "      <td>SINRS-19250002</td>\n",
       "      <td>Open Food TastingFOOD TASTING</td>\n",
       "      <td>FOOD</td>\n",
       "      <td>NaN</td>\n",
       "      <td>51.0</td>\n",
       "      <td>0.151786</td>\n",
       "      <td>70.000000</td>\n",
       "      <td>0</td>\n",
       "      <td>0</td>\n",
       "      <td>-2590.0</td>\n",
       "      <td>70.000000</td>\n",
       "      <td>3570.0</td>\n",
       "      <td>0</td>\n",
       "      <td>3570.0</td>\n",
       "      <td>0.071609</td>\n",
       "      <td>LOW</td>\n",
       "      <td>HIGH</td>\n",
       "      <td>PLOWHORSES</td>\n",
       "      <td>FOOD</td>\n",
       "    </tr>\n",
       "    <tr>\n",
       "      <th>3</th>\n",
       "      <td>SINRS-19250002</td>\n",
       "      <td>Open Food Tastingwedding foodtasting</td>\n",
       "      <td>FOOD</td>\n",
       "      <td>NaN</td>\n",
       "      <td>14.0</td>\n",
       "      <td>0.041667</td>\n",
       "      <td>70.000000</td>\n",
       "      <td>0</td>\n",
       "      <td>0</td>\n",
       "      <td>-980.0</td>\n",
       "      <td>70.000000</td>\n",
       "      <td>980.0</td>\n",
       "      <td>0</td>\n",
       "      <td>980.0</td>\n",
       "      <td>0.019657</td>\n",
       "      <td>LOW</td>\n",
       "      <td>LOW</td>\n",
       "      <td>DOGS</td>\n",
       "      <td>FOOD</td>\n",
       "    </tr>\n",
       "    <tr>\n",
       "      <th>4</th>\n",
       "      <td>SINRS-19250002</td>\n",
       "      <td>Open Food Tastingindian food tasting</td>\n",
       "      <td>FOOD</td>\n",
       "      <td>NaN</td>\n",
       "      <td>6.0</td>\n",
       "      <td>0.017857</td>\n",
       "      <td>70.000000</td>\n",
       "      <td>0</td>\n",
       "      <td>0</td>\n",
       "      <td>-420.0</td>\n",
       "      <td>70.000000</td>\n",
       "      <td>420.0</td>\n",
       "      <td>0</td>\n",
       "      <td>420.0</td>\n",
       "      <td>0.008425</td>\n",
       "      <td>LOW</td>\n",
       "      <td>LOW</td>\n",
       "      <td>DOGS</td>\n",
       "      <td>FOOD</td>\n",
       "    </tr>\n",
       "  </tbody>\n",
       "</table>\n",
       "</div>"
      ],
      "text/plain": [
       "             Code                                   Name Department Course  \\\n",
       "0  SINRS-19250002  Open Food Tastingchinese food tasting       FOOD    NaN   \n",
       "1  SINRS-19250002  Open Food Tastingwedding food tasting       FOOD    NaN   \n",
       "2  SINRS-19250002          Open Food TastingFOOD TASTING       FOOD    NaN   \n",
       "3  SINRS-19250002   Open Food Tastingwedding foodtasting       FOOD    NaN   \n",
       "4  SINRS-19250002   Open Food Tastingindian food tasting       FOOD    NaN   \n",
       "\n",
       "    Qty.  Menu Mix %  Sales Price  Unit Cost  Cost %  Discount Amount  \\\n",
       "0  165.0    0.491071   207.454545          0       0         -34230.0   \n",
       "1  108.0    0.321429    70.000000          0       0          -8540.0   \n",
       "2   51.0    0.151786    70.000000          0       0          -2590.0   \n",
       "3   14.0    0.041667    70.000000          0       0           -980.0   \n",
       "4    6.0    0.017857    70.000000          0       0           -420.0   \n",
       "\n",
       "           CM  Menu Revenue  Menu Cost  Menu CM  Menu CM % CM Category  \\\n",
       "0  207.454545       34230.0          0  34230.0   0.686605        HIGH   \n",
       "1   70.000000        7560.0          0   7560.0   0.151643         LOW   \n",
       "2   70.000000        3570.0          0   3570.0   0.071609         LOW   \n",
       "3   70.000000         980.0          0    980.0   0.019657         LOW   \n",
       "4   70.000000         420.0          0    420.0   0.008425         LOW   \n",
       "\n",
       "  Menu Mix Category Classification recipeGroupParent  \n",
       "0              HIGH          STARS              FOOD  \n",
       "1              HIGH     PLOWHORSES              FOOD  \n",
       "2              HIGH     PLOWHORSES              FOOD  \n",
       "3               LOW           DOGS              FOOD  \n",
       "4               LOW           DOGS              FOOD  "
      ]
     },
     "execution_count": 20,
     "metadata": {},
     "output_type": "execute_result"
    }
   ],
   "source": [
    "sales_a.head()"
   ]
  },
  {
   "cell_type": "code",
   "execution_count": 21,
   "id": "0dc61863",
   "metadata": {},
   "outputs": [],
   "source": [
    "def extract_last_8_chars(recipe):\n",
    "    return recipe[-8:]\n",
    "\n",
    "sales_a['code_grpparent'] = sales_a['Code'].apply(extract_last_8_chars)\n",
    "b_r_birch['code_grp']=b_r_birch['recipeName'].apply(extract_last_8_chars)"
   ]
  },
  {
   "cell_type": "code",
   "execution_count": 22,
   "id": "438421bb",
   "metadata": {},
   "outputs": [],
   "source": [
    "sales_a['code_grpparent']=sales_a['code_grpparent'].astype(str)\n",
    "b_r_birch['code_grp']=b_r_birch['code_grp'].astype(str)"
   ]
  },
  {
   "cell_type": "code",
   "execution_count": 23,
   "id": "efe8eb5c",
   "metadata": {},
   "outputs": [],
   "source": [
    "b_r_birch = b_r_birch.merge(sales_a[['Sales Price','recipeGroupParent','code_grpparent']], how='left', left_on='code_grp', right_on='code_grpparent')"
   ]
  },
  {
   "cell_type": "code",
   "execution_count": 24,
   "id": "f41d1964",
   "metadata": {},
   "outputs": [],
   "source": [
    "b_r_birch.rename(columns={'Sales Price': 'selling'}, inplace=True)"
   ]
  },
  {
   "cell_type": "code",
   "execution_count": 25,
   "id": "08962c0f",
   "metadata": {},
   "outputs": [],
   "source": [
    "b_r_birch['selling'] = b_r_birch['selling'].fillna(0.001)"
   ]
  },
  {
   "cell_type": "code",
   "execution_count": 26,
   "id": "7539177c",
   "metadata": {},
   "outputs": [],
   "source": [
    "column_order = ['resto', 'subRecipe', 'recipeGroup', 'recipeGroupParent', 'recipeName', 'recipeCompose', 'AGBCode','Quantity', 'cost', 'InventoryCode', 'unit', 'quantityAfter','portion', 'photo','selling','category','subcategory']\n",
    "# Reorder the columns\n",
    "b_r_birch = b_r_birch[column_order]"
   ]
  },
  {
   "cell_type": "code",
   "execution_count": 27,
   "id": "9411ea53",
   "metadata": {},
   "outputs": [
    {
     "data": {
      "text/html": [
       "<div>\n",
       "<style scoped>\n",
       "    .dataframe tbody tr th:only-of-type {\n",
       "        vertical-align: middle;\n",
       "    }\n",
       "\n",
       "    .dataframe tbody tr th {\n",
       "        vertical-align: top;\n",
       "    }\n",
       "\n",
       "    .dataframe thead th {\n",
       "        text-align: right;\n",
       "    }\n",
       "</style>\n",
       "<table border=\"1\" class=\"dataframe\">\n",
       "  <thead>\n",
       "    <tr style=\"text-align: right;\">\n",
       "      <th></th>\n",
       "      <th>resto</th>\n",
       "      <th>subRecipe</th>\n",
       "      <th>recipeGroup</th>\n",
       "      <th>recipeGroupParent</th>\n",
       "      <th>recipeName</th>\n",
       "      <th>recipeCompose</th>\n",
       "      <th>AGBCode</th>\n",
       "      <th>Quantity</th>\n",
       "      <th>cost</th>\n",
       "      <th>InventoryCode</th>\n",
       "      <th>unit</th>\n",
       "      <th>quantityAfter</th>\n",
       "      <th>portion</th>\n",
       "      <th>photo</th>\n",
       "      <th>selling</th>\n",
       "      <th>category</th>\n",
       "      <th>subcategory</th>\n",
       "    </tr>\n",
       "  </thead>\n",
       "  <tbody>\n",
       "    <tr>\n",
       "      <th>0</th>\n",
       "      <td>birchstreet</td>\n",
       "      <td>NaN</td>\n",
       "      <td>Beverage</td>\n",
       "      <td>NaN</td>\n",
       "      <td>Cocktail - Vodkatini Martini 20000002</td>\n",
       "      <td>L265.014 Noilly Prat Ex Dry1000ml</td>\n",
       "      <td>0</td>\n",
       "      <td>10.0</td>\n",
       "      <td>NaN</td>\n",
       "      <td>NaN</td>\n",
       "      <td>ML</td>\n",
       "      <td>10.0</td>\n",
       "      <td>1</td>\n",
       "      <td>no</td>\n",
       "      <td>0.001</td>\n",
       "      <td>NaN</td>\n",
       "      <td>NaN</td>\n",
       "    </tr>\n",
       "    <tr>\n",
       "      <th>1</th>\n",
       "      <td>birchstreet</td>\n",
       "      <td>NaN</td>\n",
       "      <td>Beverage</td>\n",
       "      <td>NaN</td>\n",
       "      <td>Cocktail - Vodkatini Martini 20000002</td>\n",
       "      <td>L255.001 Absolute Blue BtEach</td>\n",
       "      <td>1008</td>\n",
       "      <td>90.0</td>\n",
       "      <td>NaN</td>\n",
       "      <td>NaN</td>\n",
       "      <td>ML</td>\n",
       "      <td>90.0</td>\n",
       "      <td>1</td>\n",
       "      <td>no</td>\n",
       "      <td>0.001</td>\n",
       "      <td>alcoholic beverage</td>\n",
       "      <td>spirits</td>\n",
       "    </tr>\n",
       "    <tr>\n",
       "      <th>2</th>\n",
       "      <td>birchstreet</td>\n",
       "      <td>NaN</td>\n",
       "      <td>Beverage</td>\n",
       "      <td>COCKTAIL</td>\n",
       "      <td>Cocktail - Bombay Martini Martini 20000005</td>\n",
       "      <td>L265.014 Noilly Prat Ex Dry1000ml</td>\n",
       "      <td>0</td>\n",
       "      <td>5.0</td>\n",
       "      <td>NaN</td>\n",
       "      <td>NaN</td>\n",
       "      <td>ML</td>\n",
       "      <td>5.0</td>\n",
       "      <td>1</td>\n",
       "      <td>no</td>\n",
       "      <td>22.000</td>\n",
       "      <td>NaN</td>\n",
       "      <td>NaN</td>\n",
       "    </tr>\n",
       "    <tr>\n",
       "      <th>3</th>\n",
       "      <td>birchstreet</td>\n",
       "      <td>NaN</td>\n",
       "      <td>Beverage</td>\n",
       "      <td>COCKTAIL</td>\n",
       "      <td>Cocktail - Bombay Martini Martini 20000005</td>\n",
       "      <td>L257.014 Gin Beefeater,700mlBtl</td>\n",
       "      <td>1002</td>\n",
       "      <td>90.0</td>\n",
       "      <td>NaN</td>\n",
       "      <td>NaN</td>\n",
       "      <td>ML</td>\n",
       "      <td>90.0</td>\n",
       "      <td>1</td>\n",
       "      <td>no</td>\n",
       "      <td>22.000</td>\n",
       "      <td>alcoholic beverage</td>\n",
       "      <td>spirits</td>\n",
       "    </tr>\n",
       "    <tr>\n",
       "      <th>4</th>\n",
       "      <td>birchstreet</td>\n",
       "      <td>NaN</td>\n",
       "      <td>Beverage</td>\n",
       "      <td>NaN</td>\n",
       "      <td>Cocktail - Apple Truffle MARTINI_HP 20000007</td>\n",
       "      <td>L257.001 Gin Beefeater 24700ml, Each</td>\n",
       "      <td>1002</td>\n",
       "      <td>45.0</td>\n",
       "      <td>NaN</td>\n",
       "      <td>NaN</td>\n",
       "      <td>ML</td>\n",
       "      <td>45.0</td>\n",
       "      <td>1</td>\n",
       "      <td>no</td>\n",
       "      <td>0.001</td>\n",
       "      <td>alcoholic beverage</td>\n",
       "      <td>spirits</td>\n",
       "    </tr>\n",
       "  </tbody>\n",
       "</table>\n",
       "</div>"
      ],
      "text/plain": [
       "         resto  subRecipe recipeGroup recipeGroupParent  \\\n",
       "0  birchstreet        NaN    Beverage               NaN   \n",
       "1  birchstreet        NaN    Beverage               NaN   \n",
       "2  birchstreet        NaN    Beverage          COCKTAIL   \n",
       "3  birchstreet        NaN    Beverage          COCKTAIL   \n",
       "4  birchstreet        NaN    Beverage               NaN   \n",
       "\n",
       "                                     recipeName  \\\n",
       "0         Cocktail - Vodkatini Martini 20000002   \n",
       "1         Cocktail - Vodkatini Martini 20000002   \n",
       "2    Cocktail - Bombay Martini Martini 20000005   \n",
       "3    Cocktail - Bombay Martini Martini 20000005   \n",
       "4  Cocktail - Apple Truffle MARTINI_HP 20000007   \n",
       "\n",
       "                          recipeCompose AGBCode  Quantity  cost  \\\n",
       "0     L265.014 Noilly Prat Ex Dry1000ml       0      10.0   NaN   \n",
       "1         L255.001 Absolute Blue BtEach    1008      90.0   NaN   \n",
       "2     L265.014 Noilly Prat Ex Dry1000ml       0       5.0   NaN   \n",
       "3       L257.014 Gin Beefeater,700mlBtl    1002      90.0   NaN   \n",
       "4  L257.001 Gin Beefeater 24700ml, Each    1002      45.0   NaN   \n",
       "\n",
       "   InventoryCode unit  quantityAfter  portion photo  selling  \\\n",
       "0            NaN   ML           10.0        1    no    0.001   \n",
       "1            NaN   ML           90.0        1    no    0.001   \n",
       "2            NaN   ML            5.0        1    no   22.000   \n",
       "3            NaN   ML           90.0        1    no   22.000   \n",
       "4            NaN   ML           45.0        1    no    0.001   \n",
       "\n",
       "             category subcategory  \n",
       "0                 NaN         NaN  \n",
       "1  alcoholic beverage     spirits  \n",
       "2                 NaN         NaN  \n",
       "3  alcoholic beverage     spirits  \n",
       "4  alcoholic beverage     spirits  "
      ]
     },
     "execution_count": 27,
     "metadata": {},
     "output_type": "execute_result"
    }
   ],
   "source": [
    "b_r_birch.head()"
   ]
  },
  {
   "cell_type": "code",
   "execution_count": 28,
   "id": "4f996b5b",
   "metadata": {},
   "outputs": [],
   "source": [
    "b_r_birch.to_excel(\"output_birchstreet.xlsx\", index=False)"
   ]
  },
  {
   "cell_type": "code",
   "execution_count": null,
   "id": "85ab658a",
   "metadata": {},
   "outputs": [],
   "source": []
  }
 ],
 "metadata": {
  "kernelspec": {
   "display_name": "Python 3 (ipykernel)",
   "language": "python",
   "name": "python3"
  },
  "language_info": {
   "codemirror_mode": {
    "name": "ipython",
    "version": 3
   },
   "file_extension": ".py",
   "mimetype": "text/x-python",
   "name": "python",
   "nbconvert_exporter": "python",
   "pygments_lexer": "ipython3",
   "version": "3.9.7"
  }
 },
 "nbformat": 4,
 "nbformat_minor": 5
}
